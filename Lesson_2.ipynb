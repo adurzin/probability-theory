{
 "cells": [
  {
   "cell_type": "markdown",
   "id": "21b584a5",
   "metadata": {},
   "source": [
    "### Задача №1, 2\n",
    "\n",
    "Контрольная работа состоит из пяти вопросов. На каждый вопрос приведено четыре варианта ответа, один из которых правильный. Случайная величина X задаёт число правильных ответов при простом угадывании. Найдите математическое ожидание данной случайной величины. Найдите дисперсию случайной величины X."
   ]
  },
  {
   "cell_type": "code",
   "execution_count": 17,
   "id": "a46352d1",
   "metadata": {},
   "outputs": [],
   "source": [
    "import numpy as np"
   ]
  },
  {
   "cell_type": "code",
   "execution_count": 27,
   "id": "c26e06f4",
   "metadata": {},
   "outputs": [],
   "source": [
    "n = 5\n",
    "p = 0.25"
   ]
  },
  {
   "cell_type": "code",
   "execution_count": 28,
   "id": "9aa3e96e",
   "metadata": {},
   "outputs": [],
   "source": [
    "mat = n * p\n",
    "dis = n * p * (1 - p)"
   ]
  },
  {
   "cell_type": "code",
   "execution_count": 29,
   "id": "db97840a",
   "metadata": {},
   "outputs": [
    {
     "name": "stdout",
     "output_type": "stream",
     "text": [
      "1.25 0.9375\n"
     ]
    }
   ],
   "source": [
    "print(mat, dis)"
   ]
  },
  {
   "cell_type": "markdown",
   "id": "a2878836",
   "metadata": {},
   "source": [
    "Ответ: М(Х) = 1.25, D(X) = 0.9375"
   ]
  },
  {
   "cell_type": "markdown",
   "id": "096cef87",
   "metadata": {},
   "source": [
    "### Задача №3\n",
    "\n",
    "Пользователь получает в среднем 10 писем со спамом на свой почтовый ящик за сутки. Найти число N, такое, что с вероятностью 0.95 пользователь получит не более N писем со спамом за текущий день."
   ]
  },
  {
   "cell_type": "code",
   "execution_count": 18,
   "id": "9a6a2c8e",
   "metadata": {},
   "outputs": [],
   "source": [
    "def poisson_proba(k: int, lambda_: float) -> float:\n",
    "    return (lambda_ ** k) * np.exp(-lambda_) / np.math.factorial(k)"
   ]
  },
  {
   "cell_type": "code",
   "execution_count": 19,
   "id": "7da2d131",
   "metadata": {},
   "outputs": [],
   "source": [
    "lambda_ = 10\n",
    "p = 0\n",
    "n = 0"
   ]
  },
  {
   "cell_type": "code",
   "execution_count": 20,
   "id": "997e3bf6",
   "metadata": {},
   "outputs": [
    {
     "name": "stdout",
     "output_type": "stream",
     "text": [
      "1 0.00045399929762484856\n",
      "2 0.002723995785749091\n",
      "3 0.010290650746163234\n",
      "4 0.029207288147198588\n",
      "5 0.0670405629492693\n",
      "6 0.1300960209527205\n",
      "7 0.2201752466719365\n",
      "8 0.33277427882095645\n",
      "9 0.4578843145420898\n",
      "10 0.5829943502632231\n",
      "11 0.6967307463733443\n",
      "12 0.791511076465112\n",
      "13 0.8644190226895486\n",
      "14 0.9164961271355748\n",
      "15 0.951214196766259\n"
     ]
    }
   ],
   "source": [
    "while p < 0.95:\n",
    "    n += 1\n",
    "    p += poisson_proba(n, lambda_)\n",
    "    print(n, p)\n"
   ]
  },
  {
   "cell_type": "markdown",
   "id": "9551c405",
   "metadata": {},
   "source": [
    "Ответ: N = 15"
   ]
  },
  {
   "cell_type": "markdown",
   "id": "2a74d8e5",
   "metadata": {},
   "source": [
    "### Задача №4\n",
    "\n",
    "Производятся выстрелы по мишени. Вероятность попадания в мишень при одном выстреле равна 0.01. Сколько выстрелов нужно сделать чтобы быть уверенным с вероятностью 0.9, что хотя бы 6 раз будет совершено попадание?"
   ]
  },
  {
   "cell_type": "code",
   "execution_count": 21,
   "id": "2fec2e3d",
   "metadata": {},
   "outputs": [],
   "source": [
    "def binominal(n: int, k: int, p: float):\n",
    "    return np.math.factorial(n) / (np.math.factorial(k) * np.math.factorial(n - k)) * (p ** k) * ((1 - p) ** (n - k))"
   ]
  },
  {
   "cell_type": "code",
   "execution_count": 22,
   "id": "e1b48264",
   "metadata": {},
   "outputs": [],
   "source": [
    "n = 5\n",
    "p = 0.01\n",
    "prop = 0"
   ]
  },
  {
   "cell_type": "code",
   "execution_count": 23,
   "id": "629e4b37",
   "metadata": {},
   "outputs": [
    {
     "name": "stdout",
     "output_type": "stream",
     "text": [
      "926 0.9003627121531355\n"
     ]
    }
   ],
   "source": [
    "while prop < 0.9:\n",
    "    n += 1\n",
    "    prop = 1 - sum(binominal(n, k, p) for k in range(6))\n",
    "    \n",
    "print(n, prop)"
   ]
  },
  {
   "cell_type": "markdown",
   "id": "ac699952",
   "metadata": {},
   "source": [
    "Ответ: необходимо 926 выстрелов."
   ]
  }
 ],
 "metadata": {
  "kernelspec": {
   "display_name": "Python 3 (ipykernel)",
   "language": "python",
   "name": "python3"
  },
  "language_info": {
   "codemirror_mode": {
    "name": "ipython",
    "version": 3
   },
   "file_extension": ".py",
   "mimetype": "text/x-python",
   "name": "python",
   "nbconvert_exporter": "python",
   "pygments_lexer": "ipython3",
   "version": "3.10.0"
  }
 },
 "nbformat": 4,
 "nbformat_minor": 5
}
