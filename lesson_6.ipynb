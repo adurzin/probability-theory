{
 "cells": [
  {
   "cell_type": "markdown",
   "id": "4a20eda8",
   "metadata": {},
   "source": [
    "# Домашнее задание. Урок 6."
   ]
  },
  {
   "cell_type": "markdown",
   "id": "8ef2faf1",
   "metadata": {},
   "source": [
    "**1. Даны значения величины заработной платы заемщиков банка (zp) и значения их поведенческого кредитного скоринга (ks):\n",
    "zp = [35, 45, 190, 200, 40, 70, 54, 150, 120, 110],\n",
    "ks = [401, 574, 874, 919, 459, 739, 653, 902, 746, 832].\n",
    "Найдите ковариацию этих двух величин с помощью элементарных действий, а затем с помощью функции cov из numpy\n",
    "Полученные значения должны быть равны.\n",
    "Найдите коэффициент корреляции Пирсона с помощью ковариации и среднеквадратичных отклонений двух признаков,\n",
    "а затем с использованием функций из библиотек numpy и pandas.**"
   ]
  },
  {
   "cell_type": "code",
   "execution_count": 168,
   "id": "7cb21e55",
   "metadata": {},
   "outputs": [],
   "source": [
    "import numpy as np\n",
    "import pandas as pd\n",
    "from scipy import stats"
   ]
  },
  {
   "cell_type": "code",
   "execution_count": 169,
   "id": "06572751",
   "metadata": {},
   "outputs": [],
   "source": [
    "zp = np.array([35, 45, 190, 200, 40, 70, 54, 150, 120, 110])\n",
    "ks = np.array([401, 574, 874, 919, 459, 739, 653, 902, 746, 832])"
   ]
  },
  {
   "cell_type": "code",
   "execution_count": 170,
   "id": "337e4451",
   "metadata": {},
   "outputs": [
    {
     "data": {
      "text/plain": [
       "(101.4, 709.9000000000001)"
      ]
     },
     "execution_count": 170,
     "metadata": {},
     "output_type": "execute_result"
    }
   ],
   "source": [
    "mean_zp = 1 / len(zp) * sum([x for x in zp])\n",
    "mean_ks = 1 / len(ks) * sum([y for y in ks])\n",
    "mean_zp, mean_ks"
   ]
  },
  {
   "cell_type": "code",
   "execution_count": 171,
   "id": "3c5e46ad",
   "metadata": {},
   "outputs": [],
   "source": [
    "cov = sum(map(lambda x,y: (x - mean_zp) * (y - mean_ks), zp, ks)) / (len(zp) - 1)"
   ]
  },
  {
   "cell_type": "code",
   "execution_count": 172,
   "id": "30eba727",
   "metadata": {},
   "outputs": [
    {
     "data": {
      "text/plain": [
       "10175.377777777778"
      ]
     },
     "execution_count": 172,
     "metadata": {},
     "output_type": "execute_result"
    }
   ],
   "source": [
    "cov"
   ]
  },
  {
   "cell_type": "code",
   "execution_count": 173,
   "id": "ebc9ab7c",
   "metadata": {},
   "outputs": [],
   "source": [
    "a = [x for x in range(len(zp))]"
   ]
  },
  {
   "cell_type": "code",
   "execution_count": 174,
   "id": "3c7533a1",
   "metadata": {},
   "outputs": [],
   "source": [
    "df = pd.DataFrame(list(zip(ks, zp)))"
   ]
  },
  {
   "cell_type": "code",
   "execution_count": 175,
   "id": "03542c59",
   "metadata": {},
   "outputs": [
    {
     "data": {
      "text/html": [
       "<div>\n",
       "<style scoped>\n",
       "    .dataframe tbody tr th:only-of-type {\n",
       "        vertical-align: middle;\n",
       "    }\n",
       "\n",
       "    .dataframe tbody tr th {\n",
       "        vertical-align: top;\n",
       "    }\n",
       "\n",
       "    .dataframe thead th {\n",
       "        text-align: right;\n",
       "    }\n",
       "</style>\n",
       "<table border=\"1\" class=\"dataframe\">\n",
       "  <thead>\n",
       "    <tr style=\"text-align: right;\">\n",
       "      <th></th>\n",
       "      <th>0</th>\n",
       "      <th>1</th>\n",
       "    </tr>\n",
       "  </thead>\n",
       "  <tbody>\n",
       "    <tr>\n",
       "      <th>0</th>\n",
       "      <td>33854.322222</td>\n",
       "      <td>10175.377778</td>\n",
       "    </tr>\n",
       "    <tr>\n",
       "      <th>1</th>\n",
       "      <td>10175.377778</td>\n",
       "      <td>3882.933333</td>\n",
       "    </tr>\n",
       "  </tbody>\n",
       "</table>\n",
       "</div>"
      ],
      "text/plain": [
       "              0             1\n",
       "0  33854.322222  10175.377778\n",
       "1  10175.377778   3882.933333"
      ]
     },
     "execution_count": 175,
     "metadata": {},
     "output_type": "execute_result"
    }
   ],
   "source": [
    "df.cov(ddof=1)"
   ]
  },
  {
   "cell_type": "code",
   "execution_count": 176,
   "id": "b0292779",
   "metadata": {},
   "outputs": [
    {
     "data": {
      "text/plain": [
       "array([[ 3882.93333333, 10175.37777778],\n",
       "       [10175.37777778, 33854.32222222]])"
      ]
     },
     "execution_count": 176,
     "metadata": {},
     "output_type": "execute_result"
    }
   ],
   "source": [
    "np.cov(zp, ks, ddof=1)"
   ]
  },
  {
   "cell_type": "markdown",
   "id": "a94c2032",
   "metadata": {},
   "source": [
    "__значения ковариации совпадают во всех случаях__"
   ]
  },
  {
   "cell_type": "code",
   "execution_count": 177,
   "id": "a97c3fff",
   "metadata": {},
   "outputs": [
    {
     "data": {
      "text/plain": [
       "(62.31318747531162, 183.99544076477065)"
      ]
     },
     "execution_count": 177,
     "metadata": {},
     "output_type": "execute_result"
    }
   ],
   "source": [
    "std_zp = (sum([(x - mean_zp) ** 2 for x in zp]) / (len(zp) - 1)) ** 0.5\n",
    "std_ks = (sum([(y - mean_ks) ** 2 for y in ks]) / (len(ks) - 1)) ** 0.5\n",
    "std_zp, std_ks"
   ]
  },
  {
   "cell_type": "code",
   "execution_count": 178,
   "id": "945053fa",
   "metadata": {},
   "outputs": [
    {
     "data": {
      "text/plain": [
       "0.8874900920739163"
      ]
     },
     "execution_count": 178,
     "metadata": {},
     "output_type": "execute_result"
    }
   ],
   "source": [
    "r = cov / (std_zp * std_ks)\n",
    "r"
   ]
  },
  {
   "cell_type": "code",
   "execution_count": 179,
   "id": "6688fc88",
   "metadata": {},
   "outputs": [
    {
     "data": {
      "text/plain": [
       "(0.8874900920739165, 0.8874900920739162)"
      ]
     },
     "execution_count": 179,
     "metadata": {},
     "output_type": "execute_result"
    }
   ],
   "source": [
    "df.corr()[0][1], np.corrcoef(zp, ks)[0][1]"
   ]
  },
  {
   "cell_type": "markdown",
   "id": "c921d726",
   "metadata": {},
   "source": [
    "*Ответ: значение ковариации **cov = 10175.4**, а значение корреляции Пирсона признаков **r = 0.8875**.*"
   ]
  },
  {
   "cell_type": "markdown",
   "id": "1b14cc5f",
   "metadata": {},
   "source": [
    "**2. Измерены значения IQ выборки студентов, обучающихся в местных технических вузах:\n",
    "131, 125, 115, 122, 131, 115, 107, 99, 125, 111.\n",
    "Известно, что в генеральной совокупности IQ распределен нормально.\n",
    "Найдите доверительный интервал для математического ожидания с надежностью 0.95.**"
   ]
  },
  {
   "cell_type": "code",
   "execution_count": 180,
   "id": "b5c4ab19",
   "metadata": {},
   "outputs": [],
   "source": [
    "samples = np.array([131, 125, 115, 122, 131, 115, 107, 99, 125, 111])\n",
    "a = 1 - 0.95"
   ]
  },
  {
   "cell_type": "code",
   "execution_count": 181,
   "id": "7849e36f",
   "metadata": {},
   "outputs": [
    {
     "data": {
      "text/plain": [
       "(-2.2621571627409915, 2.2621571627409915)"
      ]
     },
     "execution_count": 181,
     "metadata": {},
     "output_type": "execute_result"
    }
   ],
   "source": [
    "t1 = stats.t.ppf(a/2, df=len(samples) - 1)\n",
    "t2 = stats.t.ppf(1 - a/2, df=len(samples) - 1)\n",
    "t1, t2"
   ]
  },
  {
   "cell_type": "code",
   "execution_count": 182,
   "id": "03eef944",
   "metadata": {},
   "outputs": [],
   "source": [
    "se = samples.std(ddof=1) / np.sqrt(len(samples))"
   ]
  },
  {
   "cell_type": "code",
   "execution_count": 183,
   "id": "869ad044",
   "metadata": {},
   "outputs": [
    {
     "data": {
      "text/plain": [
       "118.1"
      ]
     },
     "execution_count": 183,
     "metadata": {},
     "output_type": "execute_result"
    }
   ],
   "source": [
    "mu = samples.mean()\n",
    "mu"
   ]
  },
  {
   "cell_type": "code",
   "execution_count": 184,
   "id": "614cff48",
   "metadata": {},
   "outputs": [
    {
     "data": {
      "text/plain": [
       "(110.55608365158724, 125.64391634841274)"
      ]
     },
     "execution_count": 184,
     "metadata": {},
     "output_type": "execute_result"
    }
   ],
   "source": [
    "p1 = mu + t1 * se\n",
    "p2 = mu + t2 * se\n",
    "p1, p2"
   ]
  },
  {
   "cell_type": "markdown",
   "id": "8299da5b",
   "metadata": {},
   "source": [
    "Ответ:  __[110.556, 125.6439]__"
   ]
  },
  {
   "cell_type": "markdown",
   "id": "f75dad4e",
   "metadata": {},
   "source": [
    "**3. Известно, что рост футболистов в сборной распределен нормально\n",
    "с дисперсией генеральной совокупности, равной 25 кв.см. Объем выборки равен 27,\n",
    "среднее выборочное составляет 174.2. Найдите доверительный интервал для математического\n",
    "ожидания с надежностью 0.95.**"
   ]
  },
  {
   "cell_type": "code",
   "execution_count": 185,
   "id": "a2266ed1",
   "metadata": {},
   "outputs": [
    {
     "data": {
      "text/plain": [
       "5.0"
      ]
     },
     "execution_count": 185,
     "metadata": {},
     "output_type": "execute_result"
    }
   ],
   "source": [
    "var = 25\n",
    "std = np.sqrt(var)\n",
    "n = 27\n",
    "mu = 174.2\n",
    "a = 0.05\n",
    "std"
   ]
  },
  {
   "cell_type": "code",
   "execution_count": 186,
   "id": "7164c0ba",
   "metadata": {},
   "outputs": [
    {
     "data": {
      "text/plain": [
       "(-1.9599639845400545, 1.959963984540054)"
      ]
     },
     "execution_count": 186,
     "metadata": {},
     "output_type": "execute_result"
    }
   ],
   "source": [
    "n1 = stats.norm.ppf(a/2)\n",
    "n2 = stats.norm.ppf(1 - a/2)\n",
    "n1, n2"
   ]
  },
  {
   "cell_type": "code",
   "execution_count": 187,
   "id": "ed943458",
   "metadata": {},
   "outputs": [],
   "source": [
    "se = std / np.sqrt(n)"
   ]
  },
  {
   "cell_type": "code",
   "execution_count": 188,
   "id": "79296e55",
   "metadata": {},
   "outputs": [
    {
     "data": {
      "text/plain": [
       "(172.3140237765397, 176.08597622346028)"
      ]
     },
     "execution_count": 188,
     "metadata": {},
     "output_type": "execute_result"
    }
   ],
   "source": [
    "p1 = mu + n1 * se\n",
    "p2 = mu + n2 * se\n",
    "p1, p2"
   ]
  },
  {
   "cell_type": "markdown",
   "id": "ae4f0ccf",
   "metadata": {},
   "source": [
    "Ответ: __[172.3, 176.086]__"
   ]
  }
 ],
 "metadata": {
  "kernelspec": {
   "display_name": "Python 3 (ipykernel)",
   "language": "python",
   "name": "python3"
  },
  "language_info": {
   "codemirror_mode": {
    "name": "ipython",
    "version": 3
   },
   "file_extension": ".py",
   "mimetype": "text/x-python",
   "name": "python",
   "nbconvert_exporter": "python",
   "pygments_lexer": "ipython3",
   "version": "3.9.2"
  }
 },
 "nbformat": 4,
 "nbformat_minor": 5
}
