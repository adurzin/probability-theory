{
 "cells": [
  {
   "cell_type": "markdown",
   "id": "f384b0ea",
   "metadata": {},
   "source": [
    "# Основы математической статистики. Количественные характеристики популяции. Графическое представление данных"
   ]
  },
  {
   "cell_type": "markdown",
   "id": "dc756cda",
   "metadata": {},
   "source": [
    "### Задача №1\n",
    "Даны значения зарплат из выборки выпускников:\n",
    "100, 80, 75, 77, 89, 33, 45, 25, 65, 17, 30, 230, 24, 57, 55, 70, 75, 65, 84, 90, 150\n",
    " \n",
    "Используя только встроенные питоновские функции и структуры данных (т.е. без библиотек numpy, pandas и др.), посчитайте (несмещённое) среднее квадратичное отклонение для данной выборки.\n"
   ]
  },
  {
   "cell_type": "code",
   "execution_count": 24,
   "id": "08a6bb2e",
   "metadata": {},
   "outputs": [],
   "source": [
    "salary = [100, 80, 75, 77, 89, 33, 45, 25, 65, 17, 30, 230, 24, 57, 55, 70, 75, 65, 84, 90, 150]"
   ]
  },
  {
   "cell_type": "code",
   "execution_count": 25,
   "id": "215a7946",
   "metadata": {},
   "outputs": [
    {
     "data": {
      "text/plain": [
       "73.14285714285714"
      ]
     },
     "execution_count": 25,
     "metadata": {},
     "output_type": "execute_result"
    }
   ],
   "source": [
    "avg = sum(salary) / len(salary)\n",
    "avg"
   ]
  },
  {
   "cell_type": "code",
   "execution_count": 26,
   "id": "36656244",
   "metadata": {},
   "outputs": [],
   "source": [
    "# s = 0\n",
    "\n",
    "# for n in range(len(salary)):\n",
    "#     s += (salary[n] - avg) ** 2"
   ]
  },
  {
   "cell_type": "code",
   "execution_count": 27,
   "id": "6bb02c89",
   "metadata": {},
   "outputs": [],
   "source": [
    "s = sum([(salary[n] - avg) ** 2 for n in range(len(salary))])"
   ]
  },
  {
   "cell_type": "code",
   "execution_count": 28,
   "id": "7668548b",
   "metadata": {},
   "outputs": [
    {
     "name": "stdout",
     "output_type": "stream",
     "text": [
      "Ответ: 47.34795214\n"
     ]
    }
   ],
   "source": [
    "print(f'Ответ: {round((s / (len(salary) - 1)) ** (1/2), 8)}')"
   ]
  },
  {
   "cell_type": "markdown",
   "id": "029cd7e0",
   "metadata": {},
   "source": [
    "### Задача №2\n",
    "\n",
    "Найдите число выбросов в выборке из задачи 1. Для определения выбросов используйте методику как при построении “усов” в boxplot, однако, как и в задаче 1, пользоваться можно только встроенными функциями и структурами данных."
   ]
  },
  {
   "cell_type": "code",
   "execution_count": 29,
   "id": "ef732d55",
   "metadata": {},
   "outputs": [],
   "source": [
    "salary.sort()"
   ]
  },
  {
   "cell_type": "code",
   "execution_count": 30,
   "id": "3a9b8ce5",
   "metadata": {},
   "outputs": [
    {
     "data": {
      "text/plain": [
       "1"
      ]
     },
     "execution_count": 30,
     "metadata": {},
     "output_type": "execute_result"
    }
   ],
   "source": [
    "len(salary) % 4"
   ]
  },
  {
   "cell_type": "code",
   "execution_count": 31,
   "id": "64aab651",
   "metadata": {},
   "outputs": [],
   "source": [
    "q1, q3 = salary[len(salary) // 4], salary[3 * len(salary) // 4]"
   ]
  },
  {
   "cell_type": "code",
   "execution_count": 32,
   "id": "9d33bad3",
   "metadata": {},
   "outputs": [
    {
     "data": {
      "text/plain": [
       "(45, 84)"
      ]
     },
     "execution_count": 32,
     "metadata": {},
     "output_type": "execute_result"
    }
   ],
   "source": [
    "q1, q3"
   ]
  },
  {
   "cell_type": "code",
   "execution_count": 33,
   "id": "9834ec01",
   "metadata": {},
   "outputs": [
    {
     "data": {
      "text/plain": [
       "39"
      ]
     },
     "execution_count": 33,
     "metadata": {},
     "output_type": "execute_result"
    }
   ],
   "source": [
    "iqr = q3 - q1\n",
    "iqr"
   ]
  },
  {
   "cell_type": "code",
   "execution_count": 34,
   "id": "f2925a4a",
   "metadata": {},
   "outputs": [
    {
     "data": {
      "text/plain": [
       "(-13.5, 142.5)"
      ]
     },
     "execution_count": 34,
     "metadata": {},
     "output_type": "execute_result"
    }
   ],
   "source": [
    "boxplot_range = (q1 - 1.5 * iqr, q3 + 1.5 * iqr)\n",
    "boxplot_range"
   ]
  },
  {
   "cell_type": "code",
   "execution_count": 35,
   "id": "f6e19be1",
   "metadata": {},
   "outputs": [],
   "source": [
    "# n = 0\n",
    "\n",
    "# for i in range(len(salary)):\n",
    "#     if salary[i] < boxplot_range[0] or salary[i] > boxplot_range[1]:\n",
    "#         n+= 1"
   ]
  },
  {
   "cell_type": "code",
   "execution_count": 36,
   "id": "fbe13ebc",
   "metadata": {},
   "outputs": [],
   "source": [
    "outliers = [salary[i] for i in range(len(salary)) if salary[i] < boxplot_range[0] or salary[i] > boxplot_range[1]]"
   ]
  },
  {
   "cell_type": "code",
   "execution_count": 37,
   "id": "eeb198c9",
   "metadata": {},
   "outputs": [
    {
     "name": "stdout",
     "output_type": "stream",
     "text": [
      "Ответ: 2\n"
     ]
    }
   ],
   "source": [
    "print(f\"Ответ: {len(outliers)}\")"
   ]
  },
  {
   "cell_type": "markdown",
   "id": "bc5f4ac9",
   "metadata": {},
   "source": [
    "### Задача №3\n",
    "\n",
    "В университет на факультет A поступило 100 человек, на факультет B - 90 человек и на факультет C - 45 человек. Вероятность того, что студент с факультета A сдаст первую сессию, равна 0.6. Для студента с факультета B эта вероятность равна 0.7, а для студента с факультета C - 0.8. Случайным образом выбирается студент, сдавший первую сессию. Какое событие наиболее вероятно:\n",
    "студент учится на факультете A,\n",
    "студент учится на факультете B,\n",
    "студент учится на факультете C?\n",
    "Замечание: да, эта задача не на тему статистики, но тема важная, и её стоит иногда освежать в памяти."
   ]
  },
  {
   "cell_type": "code",
   "execution_count": 38,
   "id": "fbfb2614",
   "metadata": {},
   "outputs": [],
   "source": [
    "a, b, c = 100, 90, 45"
   ]
  },
  {
   "cell_type": "code",
   "execution_count": 39,
   "id": "2a47ddc7",
   "metadata": {},
   "outputs": [],
   "source": [
    "palla, pallb, pallc = 0.6, 0.7, 0.8"
   ]
  },
  {
   "cell_type": "code",
   "execution_count": 40,
   "id": "f0b1ad76",
   "metadata": {},
   "outputs": [],
   "source": [
    "n = a + b + c"
   ]
  },
  {
   "cell_type": "code",
   "execution_count": 41,
   "id": "ea18b8ba",
   "metadata": {},
   "outputs": [],
   "source": [
    "pall = palla * (a / n) + pallb * (b / n) + pallc * (c / n)"
   ]
  },
  {
   "cell_type": "code",
   "execution_count": 42,
   "id": "e7259232",
   "metadata": {},
   "outputs": [
    {
     "data": {
      "text/plain": [
       "0.676595744680851"
      ]
     },
     "execution_count": 42,
     "metadata": {},
     "output_type": "execute_result"
    }
   ],
   "source": [
    "pall"
   ]
  },
  {
   "cell_type": "code",
   "execution_count": 43,
   "id": "f12cd450",
   "metadata": {},
   "outputs": [],
   "source": [
    "paall, pball, pcall = (palla * a / n)/pall, (pallb * b / n)/pall, (pallc * c / n)/pall"
   ]
  },
  {
   "cell_type": "code",
   "execution_count": 44,
   "id": "c98953fc",
   "metadata": {},
   "outputs": [
    {
     "data": {
      "text/plain": [
       "(0.3773584905660377, 0.39622641509433953, 0.22641509433962265)"
      ]
     },
     "execution_count": 44,
     "metadata": {},
     "output_type": "execute_result"
    }
   ],
   "source": [
    "paall, pball, pcall"
   ]
  },
  {
   "cell_type": "code",
   "execution_count": null,
   "id": "d5559dbc",
   "metadata": {},
   "outputs": [],
   "source": [
    "max(paall, pball, pcall)"
   ]
  },
  {
   "cell_type": "markdown",
   "id": "813a3945",
   "metadata": {},
   "source": [
    "Ответ: 2 (наиболее вероятно, что студент учится на факультете B)"
   ]
  }
 ],
 "metadata": {
  "kernelspec": {
   "display_name": "Python 3 (ipykernel)",
   "language": "python",
   "name": "python3"
  },
  "language_info": {
   "codemirror_mode": {
    "name": "ipython",
    "version": 3
   },
   "file_extension": ".py",
   "mimetype": "text/x-python",
   "name": "python",
   "nbconvert_exporter": "python",
   "pygments_lexer": "ipython3",
   "version": "3.10.0"
  }
 },
 "nbformat": 4,
 "nbformat_minor": 5
}
