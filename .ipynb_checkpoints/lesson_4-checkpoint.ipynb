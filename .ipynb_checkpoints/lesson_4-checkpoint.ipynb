{
 "cells": [
  {
   "cell_type": "markdown",
   "id": "91f6c832",
   "metadata": {},
   "source": [
    "# Домашнее задание. Урок 4."
   ]
  },
  {
   "cell_type": "markdown",
   "id": "063b648a",
   "metadata": {},
   "source": [
    "**1. Случайная непрерывная величина A имеет равномерное распределение на промежутке (200, 800].\n",
    "Найдите ее среднее значение и дисперсию.**"
   ]
  },
  {
   "cell_type": "code",
   "execution_count": 11,
   "id": "0b22d55b",
   "metadata": {},
   "outputs": [],
   "source": [
    "a, b = 200, 800"
   ]
  },
  {
   "cell_type": "code",
   "execution_count": 12,
   "id": "cb4d39a6",
   "metadata": {},
   "outputs": [],
   "source": [
    "m = (a + b) / 2\n",
    "d = ((b - a) ** 2) / 12"
   ]
  },
  {
   "cell_type": "code",
   "execution_count": 13,
   "id": "0d41d198",
   "metadata": {},
   "outputs": [
    {
     "data": {
      "text/plain": [
       "(500.0, 30000.0)"
      ]
     },
     "execution_count": 13,
     "metadata": {},
     "output_type": "execute_result"
    }
   ],
   "source": [
    "m, d"
   ]
  },
  {
   "cell_type": "markdown",
   "id": "221f7f47",
   "metadata": {},
   "source": [
    "Ответ: M = 500, D = 30000"
   ]
  },
  {
   "cell_type": "markdown",
   "id": "19535d27",
   "metadata": {},
   "source": [
    "**2. О случайной непрерывной равномерно распределенной величине B известно, что ее дисперсия равна 0.2.\n",
    "Можно ли найти правую границу величины B и ее среднее значение зная, что левая граница равна 0.5?\n",
    "Если да, найдите ее.**"
   ]
  },
  {
   "cell_type": "markdown",
   "id": "7b8225f4",
   "metadata": {},
   "source": [
    "$D(X) = \\frac{{(b - a)}^2}{12} = 0.2 ;\\ a = 0.5$\n",
    "\n",
    "следовательно, чтобы найти b выражаем:\n",
    "\n",
    "$b_{1, 2} = a \\pm \\sqrt{12D(Х)}$\n"
   ]
  },
  {
   "cell_type": "code",
   "execution_count": 14,
   "id": "c193df63",
   "metadata": {},
   "outputs": [
    {
     "data": {
      "text/plain": [
       "(2.049193338482967, -1.0491933384829668)"
      ]
     },
     "execution_count": 14,
     "metadata": {},
     "output_type": "execute_result"
    }
   ],
   "source": [
    "a = 0.5\n",
    "d = 0.2\n",
    "\n",
    "b1, b2 = a + (12 * d) ** (0.5), a - (12 * d) ** (0.5)\n",
    "b1, b2"
   ]
  },
  {
   "cell_type": "markdown",
   "id": "86df8cf1",
   "metadata": {},
   "source": [
    "так как известно, что b - правая граница, а левое значение a = 0.5, то верным является только граница - b1."
   ]
  },
  {
   "cell_type": "code",
   "execution_count": 17,
   "id": "b487669b",
   "metadata": {},
   "outputs": [
    {
     "data": {
      "text/plain": [
       "1.2745966692414834"
      ]
     },
     "execution_count": 17,
     "metadata": {},
     "output_type": "execute_result"
    }
   ],
   "source": [
    "m = (a + b1) / 2\n",
    "m"
   ]
  },
  {
   "cell_type": "markdown",
   "id": "df35929c",
   "metadata": {},
   "source": [
    "**Ответ: b = 2.05, M(X) = 1.275**"
   ]
  },
  {
   "cell_type": "markdown",
   "id": "8b4da74d",
   "metadata": {},
   "source": [
    "**3. Непрерывная случайная величина X распределена нормально и задана плотностью распределения $f(x) = \\frac{1}{4 \\sqrt{2\\pi}} \\cdot \\frac{e^{-(x+2)^{2}}}{32}$.**\n",
    "\n",
    "Найдите:\n",
    "\n",
    "а). M(X)\n",
    "\n",
    "б). D(X)\n",
    "\n",
    "в). std(X) (среднее квадратичное отклонение)"
   ]
  },
  {
   "cell_type": "markdown",
   "id": "1a7adf3c",
   "metadata": {},
   "source": [
    "так как при нормальном распределении функция плотности $f(x) = \\frac{1}{\\sigma\\sqrt{2\\pi}} e^{-\\frac{(x-\\mu)^{2}}{2\\sigma^{2}}}$ , то\n",
    "\n",
    "a) $M(X) = -2$\n",
    "\n",
    "б) $D(X) = 16$\n",
    "\n",
    "в) $\\sigma = 4$"
   ]
  },
  {
   "cell_type": "markdown",
   "id": "67b66bb6",
   "metadata": {},
   "source": [
    "**4. Рост взрослого населения города X имеет нормальное распределение.\n",
    "Причем, средний рост равен 174 см, а среднее квадратичное отклонение равно 8 см.\n",
    "Какова вероятность того, что случайным образом выбранный взрослый человек имеет рост:**\n",
    "\n",
    "а). больше 182 см\n",
    "\n",
    "б). больше 190 см\n",
    "\n",
    "в). от 166 см до 190 см\n",
    "\n",
    "г). от 166 см до 182 см\n",
    "\n",
    "д). от 158 см до 190 см\n",
    "\n",
    "е). не выше 150 см или не ниже 190 см\n",
    "\n",
    "ё). не выше 150 см или не ниже 198 см\n",
    "\n",
    "ж). ниже 166 см."
   ]
  },
  {
   "cell_type": "code",
   "execution_count": 24,
   "id": "a2b86637",
   "metadata": {},
   "outputs": [],
   "source": [
    "from scipy import stats"
   ]
  },
  {
   "cell_type": "code",
   "execution_count": 25,
   "id": "85ed60aa",
   "metadata": {},
   "outputs": [],
   "source": [
    "norm = stats.norm(loc=174, scale=8)"
   ]
  },
  {
   "cell_type": "code",
   "execution_count": 131,
   "id": "6182572d",
   "metadata": {},
   "outputs": [
    {
     "data": {
      "image/png": "[encoded data removed]",
      "text/plain": [
       "<Figure size 432x288 with 1 Axes>"
      ]
     },
     "metadata": {
      "needs_background": "light"
     },
     "output_type": "display_data"
    }
   ],
   "source": [
    "from matplotlib import pyplot as plt\n",
    "import numpy as np \n",
    "\n",
    "x = np.linspace(140, 210, 1000)\n",
    "\n",
    "a = []\n",
    "\n",
    "[a.append(norm.cdf(i)) for i in x]\n",
    "\n",
    "plt.plot(x, a)\n",
    "plt.show()"
   ]
  },
  {
   "cell_type": "code",
   "execution_count": 71,
   "id": "a5943756",
   "metadata": {
    "scrolled": true
   },
   "outputs": [
    {
     "name": "stdout",
     "output_type": "stream",
     "text": [
      "a) P (X > 182) = 15.9 %\n",
      "б) P (X > 190) = 2.28 %\n",
      "в) P (190 > X > 166) = 81.86 %\n",
      "г) P (182 > X > 166) = 68.27 %\n",
      "д) P (190 > X > 158) = 95.45 %\n",
      "e) P (X > 190 | X < 150) = 2.41 %\n",
      "ё) P (X > 198 | X < 150) = 0.27 %\n",
      "ж) P (X > 166) = 15.87 %\n"
     ]
    }
   ],
   "source": [
    "x = round((1 - norm.cdf(182)) * 100, 1)\n",
    "print(f\"a) P (X > 182) = {x} %\")\n",
    "\n",
    "x = round((1 - norm.cdf(190)) * 100, 2)\n",
    "print(f\"б) P (X > 190) = {x} %\")\n",
    "\n",
    "x = round((norm.cdf(190) - norm.cdf(166)) * 100, 2)\n",
    "print(f\"в) P (190 > X > 166) = {x} %\")\n",
    "\n",
    "x = round((norm.cdf(182) - norm.cdf(166)) * 100, 2)\n",
    "print(f\"г) P (182 > X > 166) = {x} %\")\n",
    "\n",
    "x = round((norm.cdf(190) - norm.cdf(158)) * 100, 2)\n",
    "print(f\"д) P (190 > X > 158) = {x} %\")\n",
    "\n",
    "x = round(((1 - norm.cdf(190)) + norm.cdf(150)) * 100, 2)\n",
    "print(f\"e) P (X > 190 | X < 150) = {x} %\")\n",
    "\n",
    "x = round(((1 - norm.cdf(198)) + norm.cdf(150)) * 100, 2)\n",
    "print(f\"ё) P (X > 198 | X < 150) = {x} %\")\n",
    "\n",
    "x = round(norm.cdf(166) * 100, 2)\n",
    "print(f\"ж) P (X > 166) = {x} %\")"
   ]
  },
  {
   "cell_type": "markdown",
   "id": "9338357d",
   "metadata": {},
   "source": [
    "5. На сколько сигм (средних квадратичных отклонений) отклоняется рост человека, равный 190 см, от\n",
    "математического ожидания роста в популяции, в которой M(X) = 178 см и D(X) = 25 кв.см?"
   ]
  },
  {
   "cell_type": "code",
   "execution_count": 118,
   "id": "1bf282ca",
   "metadata": {},
   "outputs": [],
   "source": [
    "m = 178\n",
    "d = 25\n",
    "x = 190\n",
    "sigm = 25 ** 0.5"
   ]
  },
  {
   "cell_type": "code",
   "execution_count": 119,
   "id": "f2790719",
   "metadata": {},
   "outputs": [
    {
     "name": "stdout",
     "output_type": "stream",
     "text": [
      "Ответ: 2.4\n"
     ]
    }
   ],
   "source": [
    "print(f'Ответ: {(x - m) / sigm}')"
   ]
  }
 ],
 "metadata": {
  "kernelspec": {
   "display_name": "Python 3 (ipykernel)",
   "language": "python",
   "name": "python3"
  },
  "language_info": {
   "codemirror_mode": {
    "name": "ipython",
    "version": 3
   },
   "file_extension": ".py",
   "mimetype": "text/x-python",
   "name": "python",
   "nbconvert_exporter": "python",
   "pygments_lexer": "ipython3",
   "version": "3.10.0"
  }
 },
 "nbformat": 4,
 "nbformat_minor": 5
}
