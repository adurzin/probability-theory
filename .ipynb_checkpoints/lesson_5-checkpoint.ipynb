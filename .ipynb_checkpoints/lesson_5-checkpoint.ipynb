{
 "cells": [
  {
   "cell_type": "markdown",
   "id": "8ebb423d",
   "metadata": {},
   "source": [
    "# Теория вероятностей и математическая статистика\n",
    "\n",
    "## Урок 5\n",
    "\n",
    "## Проверка статистических гипотез. P-значения. Доверительные интервалы\n",
    "\n",
    "### Домашнее задание\n",
    "\n",
    "В поле ответа впишите одно число. Нецелые числа следует округлить до 8 знаков после запятой.\n"
   ]
  },
  {
   "cell_type": "markdown",
   "id": "e267cb0f",
   "metadata": {},
   "source": [
    "### Задача 1\n",
    "\n",
    "Известно, что генеральная совокупность распределена нормально с известным средним квадратическим отклонением 16. Найти ширину доверительного интервала для оценки математического ожидания `mu` с надёжностью 0.95, если выборочное среднее равно 80, а объём выборки равен 256."
   ]
  },
  {
   "cell_type": "code",
   "execution_count": 1,
   "id": "ec683783",
   "metadata": {},
   "outputs": [],
   "source": [
    "from scipy import stats\n",
    "import numpy as np"
   ]
  },
  {
   "cell_type": "code",
   "execution_count": 2,
   "id": "7ec47934",
   "metadata": {},
   "outputs": [],
   "source": [
    "p = 0.95\n",
    "a = 1 - p\n",
    "std = 16\n",
    "n = 256\n",
    "mean = 80"
   ]
  },
  {
   "cell_type": "code",
   "execution_count": 3,
   "id": "595a6849",
   "metadata": {},
   "outputs": [
    {
     "data": {
      "text/plain": [
       "(-1.959963984540054, 1.959963984540054)"
      ]
     },
     "execution_count": 3,
     "metadata": {},
     "output_type": "execute_result"
    }
   ],
   "source": [
    "t1 = stats.norm.ppf(a / 2)\n",
    "t2 = stats.norm.ppf(1 - a / 2)\n",
    "\n",
    "t1, t2"
   ]
  },
  {
   "cell_type": "code",
   "execution_count": 4,
   "id": "de7afccc",
   "metadata": {},
   "outputs": [
    {
     "data": {
      "text/plain": [
       "3.91992797"
      ]
     },
     "execution_count": 4,
     "metadata": {},
     "output_type": "execute_result"
    }
   ],
   "source": [
    "round((mean + t2 * std / np.sqrt(n)) - (mean + t1 * std / np.sqrt(n)), 8)"
   ]
  },
  {
   "cell_type": "markdown",
   "id": "b3965895",
   "metadata": {},
   "source": [
    "\n",
    "__Ответ: 3.91992797__"
   ]
  },
  {
   "cell_type": "markdown",
   "id": "3f010c3f",
   "metadata": {},
   "source": [
    "\n",
    "### Задача 2\n",
    "\n",
    "Продавец утверждает, что средний вес пачки печенья составляет 200 г. Из партии извлечена выборка из 10 пачек. Вес каждой пачки составляет:\n",
    "```\n",
    "202, 203, 199, 197, 195, 201, 200, 204, 194, 190\n",
    "```\n",
    "Известно, что их веса распределены нормально. Верно ли утверждение продавца, если учитывать, что уровень значимости равен 1%? Найдите P-значение для данного теста и укажите его в качестве ответа."
   ]
  },
  {
   "cell_type": "code",
   "execution_count": 90,
   "id": "618e6bb9",
   "metadata": {},
   "outputs": [],
   "source": [
    "samples = np.array([202, 203, 199, 197, 195, 201, 200, 204, 194, 190])"
   ]
  },
  {
   "cell_type": "code",
   "execution_count": 91,
   "id": "c0de8829",
   "metadata": {},
   "outputs": [
    {
     "data": {
      "text/plain": [
       "(198.5, 10)"
      ]
     },
     "execution_count": 91,
     "metadata": {},
     "output_type": "execute_result"
    }
   ],
   "source": [
    "n = len(samples)\n",
    "a = 0.01\n",
    "m = 200\n",
    "mean = np.mean(samples)\n",
    "\n",
    "mean, n"
   ]
  },
  {
   "cell_type": "code",
   "execution_count": 92,
   "id": "d4d7fc54",
   "metadata": {},
   "outputs": [
    {
     "data": {
      "text/plain": [
       "(-3.2498355440153697, 3.2498355440153697)"
      ]
     },
     "execution_count": 92,
     "metadata": {},
     "output_type": "execute_result"
    }
   ],
   "source": [
    "t1 = stats.t.ppf(a / 2, df=n - 1)\n",
    "t2 = stats.t.ppf(1 - a/2, df=n - 1)\n",
    "\n",
    "t1, t2"
   ]
  },
  {
   "cell_type": "code",
   "execution_count": 93,
   "id": "2a1a3143",
   "metadata": {},
   "outputs": [
    {
     "data": {
      "text/plain": [
       "4.453463071962462"
      ]
     },
     "execution_count": 93,
     "metadata": {},
     "output_type": "execute_result"
    }
   ],
   "source": [
    "std = samples.std(ddof=1)\n",
    "std"
   ]
  },
  {
   "cell_type": "code",
   "execution_count": 94,
   "id": "4108e0eb",
   "metadata": {},
   "outputs": [],
   "source": [
    "def statistic(samples: np.ndarray) -> float:\n",
    "    return (samples.mean() - 200) / (samples.std(ddof=1) / np.sqrt(samples.shape[0]))"
   ]
  },
  {
   "cell_type": "code",
   "execution_count": 95,
   "id": "49451375",
   "metadata": {},
   "outputs": [
    {
     "data": {
      "text/plain": [
       "-1.0651074037450896"
      ]
     },
     "execution_count": 95,
     "metadata": {},
     "output_type": "execute_result"
    }
   ],
   "source": [
    "s = statistic(samples)\n",
    "s"
   ]
  },
  {
   "cell_type": "code",
   "execution_count": 96,
   "id": "b4ce88e1",
   "metadata": {},
   "outputs": [
    {
     "data": {
      "text/plain": [
       "0.15728330176236424"
      ]
     },
     "execution_count": 96,
     "metadata": {},
     "output_type": "execute_result"
    }
   ],
   "source": [
    "p_left = stats.t.cdf(s, df=n - 1)\n",
    "p_left"
   ]
  },
  {
   "cell_type": "code",
   "execution_count": 97,
   "id": "5f075ae5",
   "metadata": {},
   "outputs": [
    {
     "data": {
      "text/plain": [
       "0.8427166982376357"
      ]
     },
     "execution_count": 97,
     "metadata": {},
     "output_type": "execute_result"
    }
   ],
   "source": [
    "p_right = 1 - stats.t.cdf(s, df=n - 1)\n",
    "p_right"
   ]
  },
  {
   "cell_type": "code",
   "execution_count": 98,
   "id": "c5b9193b",
   "metadata": {},
   "outputs": [],
   "source": [
    "pvalue = 2 * min(p_left, p_right)"
   ]
  },
  {
   "cell_type": "code",
   "execution_count": 99,
   "id": "7f9ea51d",
   "metadata": {},
   "outputs": [
    {
     "data": {
      "text/plain": [
       "0.3145666"
      ]
     },
     "execution_count": 99,
     "metadata": {},
     "output_type": "execute_result"
    }
   ],
   "source": [
    "round(pvalue, 8)"
   ]
  },
  {
   "cell_type": "code",
   "execution_count": 100,
   "id": "a5cca9d7",
   "metadata": {},
   "outputs": [
    {
     "data": {
      "text/plain": [
       "True"
      ]
     },
     "execution_count": 100,
     "metadata": {},
     "output_type": "execute_result"
    }
   ],
   "source": [
    "a < pvalue"
   ]
  },
  {
   "cell_type": "markdown",
   "id": "4fb9a5d4",
   "metadata": {},
   "source": [
    "Утверждение продавца верное, так как уровень значимости 1% меньше, чем pvalue = 0.3145666\n",
    "\n",
    "__Ответ: P-значение = 0.3145666__"
   ]
  },
  {
   "cell_type": "markdown",
   "id": "66d5ec45",
   "metadata": {},
   "source": [
    "### Задача 3\n",
    "\n",
    "Дана выборка диаметров подшипников из примера 1 с занятия 5:\n",
    "```\n",
    "samples = [0.6603, 0.9466, 0.5968, 1.3792, 1.5481, 0.7515, 1.0681, 1.1134,\n",
    "           1.2088, 1.701 , 1.0282, 1.3579, 1.0191, 1.1784, 1.1168, 1.1372,\n",
    "           0.7273, 1.3958, 0.8665, 1.5112, 1.161 , 1.0232, 1.0865, 1.02  ]\n",
    "```\n",
    "Предполагая, что диаметры подшипников распределены нормально, проверьте гипотезу о том, что дисперсия случайной величины равна `0.0625` при уровне значимости `alpha = 0.05`. Что для этого нужно знать:\n",
    "1. Альтернативная гипотеза двухсторонняя.\n",
    "2. Статистика для теста: `H = (n - 1) * sample_variance / variance`, где `n` - число элементов в выборке, `sample_variance` - несмещённая оценка дисперсии, `variance` - утверждаемая нулевой гипотезой дисперсия.\n",
    "3. Эта статистика в предположении верности нулевой гипотезы имеет распределение хи-квадрат с параметром `df = n - 1`. Её квантили можно найти с помощью функции `scipy.stats.chi2.ppf`.\n",
    "\n",
    "В качестве ответа запишите 1, если нулевая гипотеза верна, и 0 иначе."
   ]
  },
  {
   "cell_type": "code",
   "execution_count": 101,
   "id": "1e42df7a",
   "metadata": {},
   "outputs": [],
   "source": [
    "samples = np.array([0.6603, 0.9466, 0.5968, 1.3792, 1.5481, 0.7515, 1.0681, 1.1134,\n",
    "           1.2088, 1.701 , 1.0282, 1.3579, 1.0191, 1.1784, 1.1168, 1.1372,\n",
    "           0.7273, 1.3958, 0.8665, 1.5112, 1.161 , 1.0232, 1.0865, 1.02  ])"
   ]
  },
  {
   "cell_type": "code",
   "execution_count": 102,
   "id": "b9c81ab3",
   "metadata": {},
   "outputs": [
    {
     "data": {
      "text/plain": [
       "(1.1084541666666665, 24)"
      ]
     },
     "execution_count": 102,
     "metadata": {},
     "output_type": "execute_result"
    }
   ],
   "source": [
    "a = 0.05\n",
    "variance = 0.0625\n",
    "mean = samples.mean()\n",
    "n = len(samples)\n",
    "\n",
    "mean, n"
   ]
  },
  {
   "cell_type": "code",
   "execution_count": 103,
   "id": "979a76ab",
   "metadata": {},
   "outputs": [
    {
     "data": {
      "text/plain": [
       "(11.688551922452438, 38.0756272503558)"
      ]
     },
     "execution_count": 103,
     "metadata": {},
     "output_type": "execute_result"
    }
   ],
   "source": [
    "t1 = stats.chi2.ppf(a / 2, df=n - 1)\n",
    "t2 = stats.chi2.ppf(1 - a / 2, df=n - 1)\n",
    "\n",
    "t1, t2"
   ]
  },
  {
   "cell_type": "code",
   "execution_count": 104,
   "id": "47ad5f3c",
   "metadata": {},
   "outputs": [],
   "source": [
    "sample_variance = samples.var(ddof=1)"
   ]
  },
  {
   "cell_type": "code",
   "execution_count": 105,
   "id": "37f7ccb5",
   "metadata": {},
   "outputs": [
    {
     "data": {
      "text/plain": [
       "28.720541753333343"
      ]
     },
     "execution_count": 105,
     "metadata": {},
     "output_type": "execute_result"
    }
   ],
   "source": [
    "H = (n - 1) * sample_variance / variance\n",
    "H"
   ]
  },
  {
   "cell_type": "code",
   "execution_count": 106,
   "id": "7916ddf2",
   "metadata": {},
   "outputs": [
    {
     "data": {
      "text/plain": [
       "True"
      ]
     },
     "execution_count": 106,
     "metadata": {},
     "output_type": "execute_result"
    }
   ],
   "source": [
    "t1 < H < t2"
   ]
  },
  {
   "cell_type": "markdown",
   "id": "bf747079",
   "metadata": {},
   "source": [
    "__Ответ: 1, гипотеза верна__"
   ]
  }
 ],
 "metadata": {
  "kernelspec": {
   "display_name": "Python 3 (ipykernel)",
   "language": "python",
   "name": "python3"
  },
  "language_info": {
   "codemirror_mode": {
    "name": "ipython",
    "version": 3
   },
   "file_extension": ".py",
   "mimetype": "text/x-python",
   "name": "python",
   "nbconvert_exporter": "python",
   "pygments_lexer": "ipython3",
   "version": "3.10.0"
  }
 },
 "nbformat": 4,
 "nbformat_minor": 5
}
