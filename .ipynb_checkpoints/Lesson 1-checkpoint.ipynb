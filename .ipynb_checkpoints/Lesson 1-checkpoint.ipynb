{
 "cells": [
  {
   "cell_type": "code",
   "execution_count": 30,
   "id": "97823af7",
   "metadata": {},
   "outputs": [],
   "source": [
    "import numpy as np"
   ]
  },
  {
   "cell_type": "code",
   "execution_count": 31,
   "id": "9b94afb9",
   "metadata": {},
   "outputs": [],
   "source": [
    "def combinations(k, n):\n",
    "    return np.math.factorial(n) / (np.math.factorial(k) * np.math.factorial(n - k))"
   ]
  },
  {
   "cell_type": "markdown",
   "id": "f0bd6c8b",
   "metadata": {},
   "source": [
    "### Задача 1"
   ]
  },
  {
   "cell_type": "markdown",
   "id": "2a8d0e83",
   "metadata": {},
   "source": [
    "Имеется колода в 52 карты. Найти число возможностей вытянуть из неё 4 карты так, чтобы среди них был хотя бы один туз."
   ]
  },
  {
   "cell_type": "code",
   "execution_count": 32,
   "id": "0d9102fb",
   "metadata": {},
   "outputs": [
    {
     "data": {
      "text/plain": [
       "76145.0"
      ]
     },
     "execution_count": 32,
     "metadata": {},
     "output_type": "execute_result"
    }
   ],
   "source": [
    "sum(combinations(i, 4) * combinations(4 - i, 48) for i in range(1, 5))"
   ]
  },
  {
   "cell_type": "markdown",
   "id": "7ef66c76",
   "metadata": {},
   "source": [
    "### Задача 2, 3"
   ]
  },
  {
   "cell_type": "markdown",
   "id": "ef29ae43",
   "metadata": {},
   "source": [
    "Из 60 вопросов, входящих в экзаменационные билеты, студент знает 50. Случайным образом студент вытягивает 3 вопроса. Какова вероятность, что все выбранные вопросы знакомы студенту? Какова вероятность что два из трёх вопросов знакомы студенту?"
   ]
  },
  {
   "cell_type": "code",
   "execution_count": 33,
   "id": "72809264",
   "metadata": {},
   "outputs": [],
   "source": [
    "total = combinations(3, 60)"
   ]
  },
  {
   "cell_type": "code",
   "execution_count": 34,
   "id": "aff3bd0a",
   "metadata": {},
   "outputs": [],
   "source": [
    "right = combinations(3, 50)"
   ]
  },
  {
   "cell_type": "code",
   "execution_count": 35,
   "id": "734a16cc",
   "metadata": {},
   "outputs": [
    {
     "data": {
      "text/plain": [
       "0.5727644652250146"
      ]
     },
     "execution_count": 35,
     "metadata": {},
     "output_type": "execute_result"
    }
   ],
   "source": [
    "right / total"
   ]
  },
  {
   "cell_type": "code",
   "execution_count": 36,
   "id": "7a26a4e6",
   "metadata": {},
   "outputs": [
    {
     "data": {
      "text/plain": [
       "0.35797779076563413"
      ]
     },
     "execution_count": 36,
     "metadata": {},
     "output_type": "execute_result"
    }
   ],
   "source": [
    "combinations(2, 50) * combinations(1, 10) / total"
   ]
  },
  {
   "cell_type": "markdown",
   "id": "51b80878",
   "metadata": {},
   "source": [
    "**Ответ:** вероятность выбрать 3 знакомых вопроса - P = 0.57, а вероятность выбрать 2 знакомых вопроса - P = 0.36."
   ]
  },
  {
   "cell_type": "markdown",
   "id": "dc109d75",
   "metadata": {},
   "source": [
    "### Задача 4"
   ]
  },
  {
   "cell_type": "markdown",
   "id": "e78da61b",
   "metadata": {},
   "source": [
    "Допустим, имеется некоторая очень редкая болезнь (поражает 0.1% населения). Вы приходите к врачу, вам делают тест на эту болезнь, и тест оказывается положительным. Врач говорит вам, что этот тест верно выявляет 99% больных этой болезнью и всего лишь в 1% случаев даёт ложный положительный ответ.\n",
    "\n",
    "Вопрос: какова вероятность, что вы действительно больны ей?\n",
    "\n",
    "Подсказка: используйте формулу Байеса с раскрытием знаменателя с помощью формулы полной вероятности."
   ]
  },
  {
   "cell_type": "markdown",
   "id": "115d6c28",
   "metadata": {},
   "source": [
    "P(B|A) = 0.99, P(A) = 0.001\n",
    "\n",
    "$P(A|B) =  \\frac{P(B | A) \\cdot P(A)}{P(B)} $\n",
    "\n",
    "$P(B) = P(B|A) \\cdot P(A) + P(B| \\overline{A}) \\cdot P(\\overline{A})$"
   ]
  },
  {
   "cell_type": "code",
   "execution_count": 2,
   "id": "14a0b8e1",
   "metadata": {},
   "outputs": [],
   "source": [
    "ba = 0.99\n",
    "a = 0.001"
   ]
  },
  {
   "cell_type": "code",
   "execution_count": 7,
   "id": "b57988e3",
   "metadata": {},
   "outputs": [],
   "source": [
    "b = ba * a + 0.01 * 0.999    # вероятность, что тест положителен при реальной болезни и вероятность, что тест положителен, при отсутствии болезни"
   ]
  },
  {
   "cell_type": "code",
   "execution_count": 4,
   "id": "3e421739",
   "metadata": {},
   "outputs": [
    {
     "data": {
      "text/plain": [
       "0.01098"
      ]
     },
     "execution_count": 4,
     "metadata": {},
     "output_type": "execute_result"
    }
   ],
   "source": [
    "b"
   ]
  },
  {
   "cell_type": "code",
   "execution_count": 5,
   "id": "6e76d3ee",
   "metadata": {},
   "outputs": [],
   "source": [
    "ab = ba * a / b"
   ]
  },
  {
   "cell_type": "code",
   "execution_count": 6,
   "id": "4560ef8b",
   "metadata": {},
   "outputs": [
    {
     "data": {
      "text/plain": [
       "9.01639344262295"
      ]
     },
     "execution_count": 6,
     "metadata": {},
     "output_type": "execute_result"
    }
   ],
   "source": [
    "ab * 100"
   ]
  },
  {
   "cell_type": "markdown",
   "id": "f56da833",
   "metadata": {},
   "source": [
    "**Ответ:** вероятность того, что вы действительно больны = 9 %"
   ]
  }
 ],
 "metadata": {
  "kernelspec": {
   "display_name": "Python 3 (ipykernel)",
   "language": "python",
   "name": "python3"
  },
  "language_info": {
   "codemirror_mode": {
    "name": "ipython",
    "version": 3
   },
   "file_extension": ".py",
   "mimetype": "text/x-python",
   "name": "python",
   "nbconvert_exporter": "python",
   "pygments_lexer": "ipython3",
   "version": "3.10.0"
  }
 },
 "nbformat": 4,
 "nbformat_minor": 5
}
