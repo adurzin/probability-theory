{
 "cells": [
  {
   "cell_type": "markdown",
   "id": "ff4eb77a",
   "metadata": {},
   "source": [
    "## Урок 7\n",
    "\n",
    "## Линейная регрессия. Двухвыборочный t-тест. A/B-тестирование\n",
    "\n",
    "В поле ответа впишите одно число. Нецелые числа следует округлить до 8 знаков после запятой."
   ]
  },
  {
   "cell_type": "markdown",
   "id": "d0b80887",
   "metadata": {},
   "source": [
    "__Задача 1__\n",
    "\n",
    "Дана матрица объект-признак\n",
    "```\n",
    "X = [[ 1.22401313,  2.30868478,  3.03636353,  2.69287214],\n",
    "     [-0.18757272,  1.30337355,  5.12093014,  3.46363202],\n",
    "     [-0.81094525,  1.82463398,  5.79686488,  1.86159445],\n",
    "     [ 0.75129018,  2.67392052,  3.65529809,  1.66746094],\n",
    "     [ 0.00972362,  1.97367255,  2.50594319,  1.69755173],\n",
    "     [-0.62972637,  0.77750764,  2.84124027,  4.54410559],\n",
    "     [ 2.29536229,  1.81206697,  1.95026215,  1.51874636],\n",
    "     [ 0.0920418 ,  2.26971361,  7.47708735,  2.61081203],\n",
    "     [ 2.39252799,  3.17563985,  3.61420599,  5.10773362],\n",
    "     [ 0.54983815,  2.87988651,  1.65752765,  1.59635987]]\n",
    "```\n",
    "и значения целевой переменной\n",
    "```\n",
    "y = [ 9.26193358,  9.700363  ,  8.67214805,  8.74796974,  6.18689108,\n",
    "      7.53312713,  7.57643777, 12.44965478, 14.29010746,  6.68361218]\n",
    "```\n",
    "\n",
    "Подберите два признака (из четырёх) так, чтобы уровень линейной зависимости целевой переменной от значений этих признаков был максимальным. Другими словами, модель линейной регрессии на этих признаках должна давать наилучший результат. В качестве ответа запишите значение коэффициента детерминации для модели на этих признаках."
   ]
  },
  {
   "cell_type": "code",
   "execution_count": 32,
   "id": "cdb0d935",
   "metadata": {},
   "outputs": [],
   "source": [
    "import numpy as np"
   ]
  },
  {
   "cell_type": "code",
   "execution_count": 34,
   "id": "4ed80160",
   "metadata": {},
   "outputs": [],
   "source": [
    "x = np.array([[ 1.22401313,  2.30868478,  3.03636353,  2.69287214],\n",
    "     [-0.18757272,  1.30337355,  5.12093014,  3.46363202],\n",
    "     [-0.81094525,  1.82463398,  5.79686488,  1.86159445],\n",
    "     [ 0.75129018,  2.67392052,  3.65529809,  1.66746094],\n",
    "     [ 0.00972362,  1.97367255,  2.50594319,  1.69755173],\n",
    "     [-0.62972637,  0.77750764,  2.84124027,  4.54410559],\n",
    "     [ 2.29536229,  1.81206697,  1.95026215,  1.51874636],\n",
    "     [ 0.0920418 ,  2.26971361,  7.47708735,  2.61081203],\n",
    "     [ 2.39252799,  3.17563985,  3.61420599,  5.10773362],\n",
    "     [ 0.54983815,  2.87988651,  1.65752765,  1.59635987]])\n",
    "\n",
    "y = np.array([ 9.26193358,  9.700363  ,  8.67214805,  8.74796974,  6.18689108, \n",
    "     7.53312713,  7.57643777, 12.44965478, 14.29010746,  6.68361218])"
   ]
  },
  {
   "cell_type": "code",
   "execution_count": 35,
   "id": "63ecd144",
   "metadata": {},
   "outputs": [],
   "source": [
    "from sklearn.linear_model import LinearRegression"
   ]
  },
  {
   "cell_type": "code",
   "execution_count": 36,
   "id": "31406019",
   "metadata": {},
   "outputs": [
    {
     "data": {
      "text/plain": [
       "array([[ 1.22401313,  3.03636353],\n",
       "       [-0.18757272,  5.12093014],\n",
       "       [-0.81094525,  5.79686488],\n",
       "       [ 0.75129018,  3.65529809],\n",
       "       [ 0.00972362,  2.50594319],\n",
       "       [-0.62972637,  2.84124027],\n",
       "       [ 2.29536229,  1.95026215],\n",
       "       [ 0.0920418 ,  7.47708735],\n",
       "       [ 2.39252799,  3.61420599],\n",
       "       [ 0.54983815,  1.65752765]])"
      ]
     },
     "execution_count": 36,
     "metadata": {},
     "output_type": "execute_result"
    }
   ],
   "source": [
    "x1 = x[:, [0,2]] # выбираем два признака из четерех\n",
    "x1"
   ]
  },
  {
   "cell_type": "code",
   "execution_count": 37,
   "id": "1c352d3a",
   "metadata": {
    "scrolled": true
   },
   "outputs": [],
   "source": [
    "lr = LinearRegression(fit_intercept=True).fit(x1, y)"
   ]
  },
  {
   "cell_type": "code",
   "execution_count": 38,
   "id": "78646df4",
   "metadata": {},
   "outputs": [
    {
     "data": {
      "text/plain": [
       "array([1.62531203, 1.21134979])"
      ]
     },
     "execution_count": 38,
     "metadata": {},
     "output_type": "execute_result"
    }
   ],
   "source": [
    "b = lr.coef_\n",
    "b"
   ]
  },
  {
   "cell_type": "code",
   "execution_count": 39,
   "id": "e816da52",
   "metadata": {},
   "outputs": [
    {
     "data": {
      "text/plain": [
       "array([3.59443198, 3.80198953, 2.96815605, 3.09904419, 3.1355134 ,\n",
       "       5.11489316, 1.48330817, 3.24268992, 6.02343525, 3.78210784])"
      ]
     },
     "execution_count": 39,
     "metadata": {},
     "output_type": "execute_result"
    }
   ],
   "source": [
    "e = y - x1.dot(b)\n",
    "e"
   ]
  },
  {
   "cell_type": "code",
   "execution_count": 40,
   "id": "03672db9",
   "metadata": {},
   "outputs": [
    {
     "data": {
      "text/plain": [
       "0.763424623879315"
      ]
     },
     "execution_count": 40,
     "metadata": {},
     "output_type": "execute_result"
    }
   ],
   "source": [
    "r2 = 1 - ((e - e.mean()) ** 2).sum() / ((y - y.mean()) ** 2).sum()\n",
    "r2"
   ]
  },
  {
   "cell_type": "code",
   "execution_count": 41,
   "id": "39450b32",
   "metadata": {},
   "outputs": [
    {
     "name": "stdout",
     "output_type": "stream",
     "text": [
      "Ответ: R2 = 0.76342462\n"
     ]
    }
   ],
   "source": [
    "print(f\"Ответ: R2 = {np.round(r2, 8)}\")"
   ]
  },
  {
   "cell_type": "markdown",
   "id": "4b465f9e",
   "metadata": {},
   "source": [
    "__Задача 2__\n",
    "\n",
    "Является ли значимым уравнение регрессии, полученное в предыдущей задаче? В качестве ответа запишите 1, если является, и 0 иначе.\n"
   ]
  },
  {
   "cell_type": "code",
   "execution_count": 42,
   "id": "e00c418c",
   "metadata": {},
   "outputs": [],
   "source": [
    "from scipy import stats"
   ]
  },
  {
   "cell_type": "code",
   "execution_count": 43,
   "id": "1eb998fd",
   "metadata": {},
   "outputs": [
    {
     "data": {
      "text/plain": [
       "(2, 7)"
      ]
     },
     "execution_count": 43,
     "metadata": {},
     "output_type": "execute_result"
    }
   ],
   "source": [
    "a = 0.05\n",
    "n = x1.shape[0]\n",
    "m = x1.shape[1]\n",
    "\n",
    "k1 = m\n",
    "k2 = n - m - 1\n",
    "\n",
    "k1, k2"
   ]
  },
  {
   "cell_type": "code",
   "execution_count": 44,
   "id": "f2d6a986",
   "metadata": {},
   "outputs": [
    {
     "data": {
      "text/plain": [
       "11.294439122922636"
      ]
     },
     "execution_count": 44,
     "metadata": {},
     "output_type": "execute_result"
    }
   ],
   "source": [
    "F = (r2 / k1) / ((1 - r2) / k2)\n",
    "F"
   ]
  },
  {
   "cell_type": "code",
   "execution_count": 45,
   "id": "1cda61a6",
   "metadata": {},
   "outputs": [
    {
     "data": {
      "text/plain": [
       "4.73741412777588"
      ]
     },
     "execution_count": 45,
     "metadata": {},
     "output_type": "execute_result"
    }
   ],
   "source": [
    "t = stats.f.ppf(1 - a, k1, k2)\n",
    "t"
   ]
  },
  {
   "cell_type": "code",
   "execution_count": 46,
   "id": "a33a2b8f",
   "metadata": {},
   "outputs": [
    {
     "data": {
      "text/plain": [
       "True"
      ]
     },
     "execution_count": 46,
     "metadata": {},
     "output_type": "execute_result"
    }
   ],
   "source": [
    "F > t"
   ]
  },
  {
   "cell_type": "markdown",
   "id": "43c18772",
   "metadata": {},
   "source": [
    "__Ответ: 1, так как статистика F попала в критическую область > t.__"
   ]
  },
  {
   "cell_type": "markdown",
   "id": "1b880887",
   "metadata": {},
   "source": [
    "__Задача 3__\n",
    "\n",
    "Для проведения A/B-тестирования сайта интернет-магазина были получены следующие данные: страница `A` была посещена 2509 раз, из них 77 закончились совершением покупки, страница `B` была посещена 1465 раз, 60 из них закончились совершением покупки. Является ли значимым отличие конверсии на страницах `A` и `B`? В качестве ответа запишите 1, если является, и 0 иначе.\n",
    "\n",
    "_Подсказка_. Реализуйте двухвыборочный t-тест. В качестве выборок здесь можно взять наборы меток совершения покупки (0 или 1) каждым посетителем."
   ]
  },
  {
   "cell_type": "code",
   "execution_count": 50,
   "id": "847c5e4e",
   "metadata": {},
   "outputs": [],
   "source": [
    "a = 0.05"
   ]
  },
  {
   "cell_type": "code",
   "execution_count": 61,
   "id": "04145a95",
   "metadata": {},
   "outputs": [],
   "source": [
    "n1 = 2509\n",
    "n2 = 1465"
   ]
  },
  {
   "cell_type": "code",
   "execution_count": 62,
   "id": "29d073cd",
   "metadata": {},
   "outputs": [],
   "source": [
    "x1 = np.hstack((np.zeros(n1 - 77), np.ones(77)))\n",
    "x2 = np.hstack((np.zeros(n2 - 60), np.ones(60)))"
   ]
  },
  {
   "cell_type": "code",
   "execution_count": 63,
   "id": "a9f21be8",
   "metadata": {},
   "outputs": [
    {
     "data": {
      "text/plain": [
       "(0.17250951379621338, 0.19825513126725994)"
      ]
     },
     "execution_count": 63,
     "metadata": {},
     "output_type": "execute_result"
    }
   ],
   "source": [
    "std1 = x1.std(ddof=1)\n",
    "std2 = x2.std(ddof=1)\n",
    "\n",
    "std1, std2"
   ]
  },
  {
   "cell_type": "code",
   "execution_count": 53,
   "id": "f87b29b7",
   "metadata": {},
   "outputs": [
    {
     "data": {
      "text/plain": [
       "0.006220171278295827"
      ]
     },
     "execution_count": 53,
     "metadata": {},
     "output_type": "execute_result"
    }
   ],
   "source": [
    "std_d = np.sqrt(std1 ** 2 / n1 + std2 ** 2 / n2)\n",
    "std_d"
   ]
  },
  {
   "cell_type": "code",
   "execution_count": 68,
   "id": "94cd743d",
   "metadata": {},
   "outputs": [
    {
     "data": {
      "text/plain": [
       "-1.6504551408398205"
      ]
     },
     "execution_count": 68,
     "metadata": {},
     "output_type": "execute_result"
    }
   ],
   "source": [
    "t = (x1.mean() - x2.mean()) / std_d\n",
    "t"
   ]
  },
  {
   "cell_type": "code",
   "execution_count": 69,
   "id": "1513cbcc",
   "metadata": {},
   "outputs": [
    {
     "data": {
      "text/plain": [
       "2732.8025644352133"
      ]
     },
     "execution_count": 69,
     "metadata": {},
     "output_type": "execute_result"
    }
   ],
   "source": [
    "df = (std1 ** 2 / n1 + std2 ** 2 / n2) ** 2 / \\\n",
    "    ((std1 ** 2 / n1) ** 2 / (n1 - 1) + (std2 ** 2 / n2) ** 2 / (n2 - 1))\n",
    "\n",
    "df"
   ]
  },
  {
   "cell_type": "code",
   "execution_count": 70,
   "id": "c5919f6a",
   "metadata": {},
   "outputs": [
    {
     "data": {
      "text/plain": [
       "(-1.9608324352746576, 1.9608324352746571)"
      ]
     },
     "execution_count": 70,
     "metadata": {},
     "output_type": "execute_result"
    }
   ],
   "source": [
    "t1 = stats.t.ppf(a / 2, df=df)\n",
    "t2 = stats.t.ppf(1 - a / 2, df=df)\n",
    "\n",
    "t1, t2"
   ]
  },
  {
   "cell_type": "code",
   "execution_count": 71,
   "id": "76fb5a40",
   "metadata": {},
   "outputs": [
    {
     "data": {
      "text/plain": [
       "True"
      ]
     },
     "execution_count": 71,
     "metadata": {},
     "output_type": "execute_result"
    }
   ],
   "source": [
    "t1 < t < t2"
   ]
  },
  {
   "cell_type": "markdown",
   "id": "3876e4d3",
   "metadata": {},
   "source": [
    "Значение статистики не попало в критическую область, следовательно утверждение о значимости конверсий ложное."
   ]
  },
  {
   "cell_type": "code",
   "execution_count": 73,
   "id": "4f9b9855",
   "metadata": {},
   "outputs": [
    {
     "data": {
      "text/plain": [
       "Ttest_indResult(statistic=-1.6504551408398205, pvalue=0.09896479217925898)"
      ]
     },
     "execution_count": 73,
     "metadata": {},
     "output_type": "execute_result"
    }
   ],
   "source": [
    "stats.ttest_ind(x1, x2, equal_var=False) # проверка в готовой реализации"
   ]
  },
  {
   "cell_type": "markdown",
   "id": "986d42cf",
   "metadata": {},
   "source": [
    "__Ответ: 0__"
   ]
  }
 ],
 "metadata": {
  "kernelspec": {
   "display_name": "Python 3 (ipykernel)",
   "language": "python",
   "name": "python3"
  },
  "language_info": {
   "codemirror_mode": {
    "name": "ipython",
    "version": 3
   },
   "file_extension": ".py",
   "mimetype": "text/x-python",
   "name": "python",
   "nbconvert_exporter": "python",
   "pygments_lexer": "ipython3",
   "version": "3.9.2"
  }
 },
 "nbformat": 4,
 "nbformat_minor": 5
}
